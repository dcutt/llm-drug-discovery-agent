{
 "cells": [
  {
   "cell_type": "code",
   "execution_count": 16,
   "metadata": {},
   "outputs": [
    {
     "data": {
      "text/plain": [
       "<module 'src.drug_discovery_agent.agent' from '/home/dcutting/Projects/llm-agent-drug-discovery/src/drug_discovery_agent/agent.py'>"
      ]
     },
     "execution_count": 16,
     "metadata": {},
     "output_type": "execute_result"
    }
   ],
   "source": [
    "from getpass import getpass\n",
    "from importlib import reload\n",
    "import src.drug_discovery_agent.agent as agent\n",
    "from langchain_openai import ChatOpenAI\n",
    "import os\n",
    "from pathlib import Path\n",
    "from src.models.molecular_sklearn_regressor import MolecularSKLearnRegressor\n",
    "reload(agent)"
   ]
  },
  {
   "cell_type": "markdown",
   "metadata": {},
   "source": [
    "Provide OpenAI API key to start model."
   ]
  },
  {
   "cell_type": "code",
   "execution_count": 3,
   "metadata": {},
   "outputs": [],
   "source": [
    "os.environ[\"OPENAI_API_KEY\"] = getpass(\"OpenAI API Key:\")"
   ]
  },
  {
   "cell_type": "markdown",
   "metadata": {},
   "source": [
    "Set up vector database directory and get example paper path"
   ]
  },
  {
   "cell_type": "code",
   "execution_count": 8,
   "metadata": {},
   "outputs": [],
   "source": [
    "vectordb_dir = Path(\"vector_db_dir/\")\n",
    "paper_path=Path(\"../data/example_papers/example_drug_discovery_paper.pdf\")\n",
    "vectordb_dir.mkdir(exist_ok=True)\n"
   ]
  },
  {
   "cell_type": "code",
   "execution_count": 9,
   "metadata": {},
   "outputs": [],
   "source": [
    "pretrained_root_path = Path('../models')\n",
    "predictor_model = MolecularSKLearnRegressor.from_pretrained(\n",
    "    sklearn_model_path=pretrained_root_path/'sklearn_model.pkl',\n",
    "    featurizer_yaml_path=pretrained_root_path/'featurizer_state_dict.yml',\n",
    "    scaler_path=pretrained_root_path/'scaler.pkl',\n",
    ")"
   ]
  },
  {
   "cell_type": "code",
   "execution_count": 17,
   "metadata": {},
   "outputs": [],
   "source": [
    "my_drug_discovery_chatbot = agent.DrugDiscoveryChatBot(\n",
    "    pdf_path=paper_path,\n",
    "    retriever_llm=ChatOpenAI(name='gpt-4-turbo'),\n",
    "    vectordb_dir = vectordb_dir,\n",
    "    verbose_agent = True,\n",
    "    retriever_search_k=5,\n",
    "    hydration_free_energy_predictor=predictor_model,\n",
    ")"
   ]
  },
  {
   "cell_type": "code",
   "execution_count": 23,
   "metadata": {},
   "outputs": [
    {
     "name": "stderr",
     "output_type": "stream",
     "text": [
      "Parent run 4c9ea79c-353e-4cd8-8e04-7da4b9cd8072 not found for run 9f2b5dbe-0f0b-4952-b9ec-3e0a088ae1af. Treating as a root run.\n"
     ]
    },
    {
     "name": "stdout",
     "output_type": "stream",
     "text": [
      "\n",
      "\n",
      "\u001b[1m> Entering new AgentExecutor chain...\u001b[0m\n",
      "\u001b[32;1m\u001b[1;3m\n",
      "Invoking: `query_pdf` with `{'query': 'What disease are they discussing in the paper?'}`\n",
      "\n",
      "\n",
      "\u001b[0m\u001b[36;1m\u001b[1;3mThe paper discusses anorexia as a side effect.\u001b[0m"
     ]
    },
    {
     "name": "stderr",
     "output_type": "stream",
     "text": [
      "\u001b[32m2024-05-07 20:33:11.815\u001b[0m | \u001b[1mINFO    \u001b[0m | \u001b[36msrc.drug_discovery_agent.agent\u001b[0m:\u001b[36mchat\u001b[0m:\u001b[36m430\u001b[0m - \u001b[1mTotal Tokens: 1264\u001b[0m\n",
      "\u001b[32m2024-05-07 20:33:11.815\u001b[0m | \u001b[1mINFO    \u001b[0m | \u001b[36msrc.drug_discovery_agent.agent\u001b[0m:\u001b[36mchat\u001b[0m:\u001b[36m431\u001b[0m - \u001b[1mPrompt Tokens: 1253\u001b[0m\n",
      "\u001b[32m2024-05-07 20:33:11.816\u001b[0m | \u001b[1mINFO    \u001b[0m | \u001b[36msrc.drug_discovery_agent.agent\u001b[0m:\u001b[36mchat\u001b[0m:\u001b[36m432\u001b[0m - \u001b[1mCompletion Tokens: 11\u001b[0m\n",
      "\u001b[32m2024-05-07 20:33:11.816\u001b[0m | \u001b[1mINFO    \u001b[0m | \u001b[36msrc.drug_discovery_agent.agent\u001b[0m:\u001b[36mchat\u001b[0m:\u001b[36m433\u001b[0m - \u001b[1mSuccessful Requests: 1\u001b[0m\n",
      "\u001b[32m2024-05-07 20:33:11.817\u001b[0m | \u001b[1mINFO    \u001b[0m | \u001b[36msrc.drug_discovery_agent.agent\u001b[0m:\u001b[36mchat\u001b[0m:\u001b[36m434\u001b[0m - \u001b[1mTotal Cost (USD): 0.0019015\u001b[0m\n",
      "Parent run c03430fd-2a5d-4ce5-a375-cb92047877e3 not found for run c2658aa0-0f9b-4c61-a531-ec975606dd3d. Treating as a root run.\n"
     ]
    },
    {
     "name": "stdout",
     "output_type": "stream",
     "text": [
      "\u001b[32;1m\u001b[1;3mThe paper discusses anorexia as a side effect.\u001b[0m\n",
      "\n",
      "\u001b[1m> Finished chain.\u001b[0m\n",
      "\n",
      "\n",
      "\u001b[1m> Entering new AgentExecutor chain...\u001b[0m\n",
      "\u001b[32;1m\u001b[1;3m\n",
      "Invoking: `query_pdf` with `{'query': 'Summarize the main takeaways from the paper.'}`\n",
      "\n",
      "\n",
      "\u001b[0m\u001b[36;1m\u001b[1;3mThe paper discusses predictive biomarkers in advanced NSCLC, including EGFR mutations and various other gene mutations. It also highlights FDA-approved targeted agents for EGFR inhibitors and resistance mechanisms to treatment. Ongoing clinical trials are summarized at the end of each section, providing insights into optimal treatments for patients with different mutations and resistance mechanisms.\u001b[0m"
     ]
    },
    {
     "name": "stderr",
     "output_type": "stream",
     "text": [
      "\u001b[32m2024-05-07 20:33:16.943\u001b[0m | \u001b[1mINFO    \u001b[0m | \u001b[36msrc.drug_discovery_agent.agent\u001b[0m:\u001b[36mchat\u001b[0m:\u001b[36m430\u001b[0m - \u001b[1mTotal Tokens: 4692\u001b[0m\n",
      "\u001b[32m2024-05-07 20:33:16.943\u001b[0m | \u001b[1mINFO    \u001b[0m | \u001b[36msrc.drug_discovery_agent.agent\u001b[0m:\u001b[36mchat\u001b[0m:\u001b[36m431\u001b[0m - \u001b[1mPrompt Tokens: 4626\u001b[0m\n",
      "\u001b[32m2024-05-07 20:33:16.944\u001b[0m | \u001b[1mINFO    \u001b[0m | \u001b[36msrc.drug_discovery_agent.agent\u001b[0m:\u001b[36mchat\u001b[0m:\u001b[36m432\u001b[0m - \u001b[1mCompletion Tokens: 66\u001b[0m\n",
      "\u001b[32m2024-05-07 20:33:16.944\u001b[0m | \u001b[1mINFO    \u001b[0m | \u001b[36msrc.drug_discovery_agent.agent\u001b[0m:\u001b[36mchat\u001b[0m:\u001b[36m433\u001b[0m - \u001b[1mSuccessful Requests: 1\u001b[0m\n",
      "\u001b[32m2024-05-07 20:33:16.944\u001b[0m | \u001b[1mINFO    \u001b[0m | \u001b[36msrc.drug_discovery_agent.agent\u001b[0m:\u001b[36mchat\u001b[0m:\u001b[36m434\u001b[0m - \u001b[1mTotal Cost (USD): 0.007071000000000001\u001b[0m\n",
      "Parent run 96617d6e-5ee3-4fa6-9c43-a524e0dc6f38 not found for run e20eef41-091d-4f3f-9d22-57879f03247c. Treating as a root run.\n"
     ]
    },
    {
     "name": "stdout",
     "output_type": "stream",
     "text": [
      "\u001b[32;1m\u001b[1;3mThe main takeaways from the paper include discussions on predictive biomarkers in advanced non-small cell lung cancer (NSCLC), such as EGFR mutations and other gene mutations. It also covers FDA-approved targeted agents for EGFR inhibitors and resistance mechanisms to treatment. The paper summarizes ongoing clinical trials that offer insights into optimal treatments for patients with different mutations and resistance mechanisms.\u001b[0m\n",
      "\n",
      "\u001b[1m> Finished chain.\u001b[0m\n",
      "\n",
      "\n",
      "\u001b[1m> Entering new AgentExecutor chain...\u001b[0m\n",
      "\u001b[32;1m\u001b[1;3m\n",
      "Invoking: `query_pdf` with `{'query': 'protein targets highlighted in the paper'}`\n",
      "\n",
      "\n",
      "\u001b[0m\u001b[36;1m\u001b[1;3mProtein targets highlighted in the paper include PTK7, CEACAM5, TROP2, and SHP2. These proteins are associated with various types of lung cancer, including non-small cell lung cancer (NSCLC). Specific antibody-drug conjugates and inhibitors have been developed to target these proteins for potential therapeutic purposes.\u001b[0m"
     ]
    },
    {
     "name": "stderr",
     "output_type": "stream",
     "text": [
      "\u001b[32m2024-05-07 20:33:21.860\u001b[0m | \u001b[1mINFO    \u001b[0m | \u001b[36msrc.drug_discovery_agent.agent\u001b[0m:\u001b[36mchat\u001b[0m:\u001b[36m430\u001b[0m - \u001b[1mTotal Tokens: 10279\u001b[0m\n",
      "\u001b[32m2024-05-07 20:33:21.860\u001b[0m | \u001b[1mINFO    \u001b[0m | \u001b[36msrc.drug_discovery_agent.agent\u001b[0m:\u001b[36mchat\u001b[0m:\u001b[36m431\u001b[0m - \u001b[1mPrompt Tokens: 10211\u001b[0m\n",
      "\u001b[32m2024-05-07 20:33:21.861\u001b[0m | \u001b[1mINFO    \u001b[0m | \u001b[36msrc.drug_discovery_agent.agent\u001b[0m:\u001b[36mchat\u001b[0m:\u001b[36m432\u001b[0m - \u001b[1mCompletion Tokens: 68\u001b[0m\n",
      "\u001b[32m2024-05-07 20:33:21.861\u001b[0m | \u001b[1mINFO    \u001b[0m | \u001b[36msrc.drug_discovery_agent.agent\u001b[0m:\u001b[36mchat\u001b[0m:\u001b[36m433\u001b[0m - \u001b[1mSuccessful Requests: 1\u001b[0m\n",
      "\u001b[32m2024-05-07 20:33:21.862\u001b[0m | \u001b[1mINFO    \u001b[0m | \u001b[36msrc.drug_discovery_agent.agent\u001b[0m:\u001b[36mchat\u001b[0m:\u001b[36m434\u001b[0m - \u001b[1mTotal Cost (USD): 0.015452500000000001\u001b[0m\n",
      "Parent run bfe991b3-42ea-4299-a514-be834a84b79a not found for run d87148c2-0978-4bae-ae2b-0a0c79c4294e. Treating as a root run.\n"
     ]
    },
    {
     "name": "stdout",
     "output_type": "stream",
     "text": [
      "\u001b[32;1m\u001b[1;3mThe protein targets highlighted in the paper include PTK7, CEACAM5, TROP2, and SHP2. These proteins are associated with various types of lung cancer, including non-small cell lung cancer (NSCLC). Specific antibody-drug conjugates and inhibitors have been developed to target these proteins for potential therapeutic purposes.\u001b[0m\n",
      "\n",
      "\u001b[1m> Finished chain.\u001b[0m\n",
      "\n",
      "\n",
      "\u001b[1m> Entering new AgentExecutor chain...\u001b[0m\n",
      "\u001b[32;1m\u001b[1;3m\n",
      "Invoking: `query_pdf` with `{'query': 'List 10 small molecule drugs highlighted in the paper.'}`\n",
      "\n",
      "\n",
      "\u001b[0m\u001b[36;1m\u001b[1;3mThe 10 small molecule drugs highlighted in the paper are Ado-trastuzumab emtansine, Mobocertinib, Poziotinib, trastuzumab deruxtecan, JAB-3068, TNO155, Aliseritib, Anlotinib, APG-1252, and BMS-986205.\u001b[0m"
     ]
    },
    {
     "name": "stderr",
     "output_type": "stream",
     "text": [
      "\u001b[32m2024-05-07 20:33:28.027\u001b[0m | \u001b[1mINFO    \u001b[0m | \u001b[36msrc.drug_discovery_agent.agent\u001b[0m:\u001b[36mchat\u001b[0m:\u001b[36m430\u001b[0m - \u001b[1mTotal Tokens: 4713\u001b[0m\n",
      "\u001b[32m2024-05-07 20:33:28.027\u001b[0m | \u001b[1mINFO    \u001b[0m | \u001b[36msrc.drug_discovery_agent.agent\u001b[0m:\u001b[36mchat\u001b[0m:\u001b[36m431\u001b[0m - \u001b[1mPrompt Tokens: 4635\u001b[0m\n",
      "\u001b[32m2024-05-07 20:33:28.028\u001b[0m | \u001b[1mINFO    \u001b[0m | \u001b[36msrc.drug_discovery_agent.agent\u001b[0m:\u001b[36mchat\u001b[0m:\u001b[36m432\u001b[0m - \u001b[1mCompletion Tokens: 78\u001b[0m\n",
      "\u001b[32m2024-05-07 20:33:28.029\u001b[0m | \u001b[1mINFO    \u001b[0m | \u001b[36msrc.drug_discovery_agent.agent\u001b[0m:\u001b[36mchat\u001b[0m:\u001b[36m433\u001b[0m - \u001b[1mSuccessful Requests: 1\u001b[0m\n",
      "\u001b[32m2024-05-07 20:33:28.029\u001b[0m | \u001b[1mINFO    \u001b[0m | \u001b[36msrc.drug_discovery_agent.agent\u001b[0m:\u001b[36mchat\u001b[0m:\u001b[36m434\u001b[0m - \u001b[1mTotal Cost (USD): 0.007108499999999999\u001b[0m\n",
      "Parent run 4739f87c-d8ed-4c83-81d0-c9aa48820b02 not found for run 963bacba-34d0-4b62-ad1c-8f490ae2136c. Treating as a root run.\n"
     ]
    },
    {
     "name": "stdout",
     "output_type": "stream",
     "text": [
      "\u001b[32;1m\u001b[1;3mThe 10 small molecule drugs highlighted in the paper are:\n",
      "1. Ado-trastuzumab emtansine\n",
      "2. Mobocertinib\n",
      "3. Poziotinib\n",
      "4. Trastuzumab deruxtecan\n",
      "5. JAB-3068\n",
      "6. TNO155\n",
      "7. Aliseritib\n",
      "8. Anlotinib\n",
      "9. APG-1252\n",
      "10. BMS-986205\u001b[0m\n",
      "\n",
      "\u001b[1m> Finished chain.\u001b[0m\n",
      "\n",
      "\n",
      "\u001b[1m> Entering new AgentExecutor chain...\u001b[0m\n",
      "\u001b[32;1m\u001b[1;3m\n",
      "Invoking: `drug_smiles_lookup` with `{'drug_names': ['Ado-trastuzumab emtansine', 'Mobocertinib', 'Poziotinib', 'Trastuzumab deruxtecan', 'JAB-3068', 'TNO155', 'Aliseritib', 'Anlotinib', 'APG-1252', 'BMS-986205']}`\n",
      "\n",
      "\n",
      "\u001b[0m\u001b[33;1m\u001b[1;3m[{'molecule_chembl_id': 'CHEMBL4650319', 'canonical_smiles': 'C=CC(=O)Nc1cc(Nc2ncc(C(=O)OC(C)C)c(-c3cn(C)c4ccccc34)n2)c(OC)cc1N(C)CCN(C)C', 'pref_name': 'MOBOCERTINIB', 'synonym_name': 'Mobocertinib'}, {'molecule_chembl_id': 'CHEMBL3545154', 'canonical_smiles': 'C=CC(=O)N1CCC(Oc2cc3c(Nc4ccc(Cl)c(Cl)c4F)ncnc3cc2OC)CC1', 'pref_name': 'POZIOTINIB', 'synonym_name': 'Poziotinib'}, {'molecule_chembl_id': 'CHEMBL4297844', 'canonical_smiles': None, 'pref_name': 'TRASTUZUMAB DERUXTECAN', 'synonym_name': 'Trastuzumab deruxtecan'}, {'molecule_chembl_id': 'CHEMBL5095185', 'canonical_smiles': 'CC(=O)N1CC(F)(F)c2c(Sc3ncc(N4CCC5(CC4)COC[C@H]5N)nc3N)cccc21', 'pref_name': 'JAB-3068', 'synonym_name': 'JAB-3068'}, {'molecule_chembl_id': 'CHEMBL4650521', 'canonical_smiles': 'C[C@@H]1OCC2(CCN(c3cnc(Sc4ccnc(N)c4Cl)c(N)n3)CC2)[C@@H]1N', 'pref_name': 'BATOPROTAFIB', 'synonym_name': 'TNO155'}, {'molecule_chembl_id': 'CHEMBL4303201', 'canonical_smiles': 'COc1cc2c(Oc3ccc4[nH]c(C)cc4c3F)ccnc2cc1OCC1(N)CC1', 'pref_name': 'CATEQUENTINIB', 'synonym_name': 'Anlotinib'}, {'molecule_chembl_id': 'CHEMBL4802151', 'canonical_smiles': 'Cc1c(S(C)(=O)=O)c(-c2cc(F)cc(N3CCN(c4ccc(NS(=O)(=O)c5ccc(N[C@H](CCN6CCC(C(=O)OCCCP(=O)(O)O)CC6)CSc6ccccc6)c(S(=O)(=O)C(F)(F)F)c5)cc4)CC3)c2)c(-c2ccc(Cl)cc2)n1C(C)C', 'pref_name': 'PELCITOCLAX', 'synonym_name': 'APG-1252'}, {'molecule_chembl_id': 'CHEMBL4297598', 'canonical_smiles': 'C[C@@H](C(=O)Nc1ccc(Cl)cc1)C1CCC(c2ccnc3ccc(F)cc23)CC1', 'pref_name': 'LINRODOSTAT', 'synonym_name': 'BMS-986205'}]\u001b[0m"
     ]
    },
    {
     "name": "stderr",
     "output_type": "stream",
     "text": [
      "\u001b[32m2024-05-07 20:33:43.564\u001b[0m | \u001b[1mINFO    \u001b[0m | \u001b[36msrc.drug_discovery_agent.agent\u001b[0m:\u001b[36mchat\u001b[0m:\u001b[36m430\u001b[0m - \u001b[1mTotal Tokens: 0\u001b[0m\n",
      "\u001b[32m2024-05-07 20:33:43.565\u001b[0m | \u001b[1mINFO    \u001b[0m | \u001b[36msrc.drug_discovery_agent.agent\u001b[0m:\u001b[36mchat\u001b[0m:\u001b[36m431\u001b[0m - \u001b[1mPrompt Tokens: 0\u001b[0m\n",
      "\u001b[32m2024-05-07 20:33:43.565\u001b[0m | \u001b[1mINFO    \u001b[0m | \u001b[36msrc.drug_discovery_agent.agent\u001b[0m:\u001b[36mchat\u001b[0m:\u001b[36m432\u001b[0m - \u001b[1mCompletion Tokens: 0\u001b[0m\n",
      "\u001b[32m2024-05-07 20:33:43.565\u001b[0m | \u001b[1mINFO    \u001b[0m | \u001b[36msrc.drug_discovery_agent.agent\u001b[0m:\u001b[36mchat\u001b[0m:\u001b[36m433\u001b[0m - \u001b[1mSuccessful Requests: 0\u001b[0m\n",
      "\u001b[32m2024-05-07 20:33:43.567\u001b[0m | \u001b[1mINFO    \u001b[0m | \u001b[36msrc.drug_discovery_agent.agent\u001b[0m:\u001b[36mchat\u001b[0m:\u001b[36m434\u001b[0m - \u001b[1mTotal Cost (USD): 0.0\u001b[0m\n",
      "Parent run ae3d5c42-6b8c-4280-938f-43866551d72b not found for run 9b09ff7a-4aee-4716-87a1-78f2400dc0ef. Treating as a root run.\n"
     ]
    },
    {
     "name": "stdout",
     "output_type": "stream",
     "text": [
      "\u001b[32;1m\u001b[1;3mHere are the small molecule drugs found in the paper along with their corresponding SMILES strings:\n",
      "\n",
      "| Drug Name                   | SMILES                                                                                                       |\n",
      "|-----------------------------|--------------------------------------------------------------------------------------------------------------|\n",
      "| Mobocertinib                | C=CC(=O)Nc1cc(Nc2ncc(C(=O)OC(C)C)c(-c3cn(C)c4ccccc34)n2)c(OC)cc1N(C)CCN(C)C                              |\n",
      "| Poziotinib                  | C=CC(=O)N1CCC(Oc2cc3c(Nc4ccc(Cl)c(Cl)c4F)ncnc3cc2OC)CC1                                                  |\n",
      "| Trastuzumab deruxtecan      | Not Available                                                                                                |\n",
      "| JAB-3068                    | CC(=O)N1CC(F)(F)c2c(Sc3ncc(N4CCC5(CC4)COC[C@H]5N)nc3N)cccc21                                              |\n",
      "| TNO155                      | C[C@@H]1OCC2(CCN(c3cnc(Sc4ccnc(N)c4Cl)c(N)n3)CC2)[C@@H]1N                                                 |\n",
      "| Anlotinib                   | COc1cc2c(Oc3ccc4[nH]c(C)cc4c3F)ccnc2cc1OCC1(N)CC1                                                        |\n",
      "| APG-1252                    | Cc1c(S(C)(=O)=O)c(-c2cc(F)cc(N3CCN(c4ccc(NS(=O)(=O)c5ccc(N[C@H](CCN6CCC(C(=O)OCCCP(=O)(O)O)CC6)CSc6ccccc6)c(S(=O)(=O)C(F)(F)F)c5)cc4)CC3)c2)c(-c2ccc(Cl)cc2)n1C(C)C |\n",
      "| BMS-986205                  | C[C@@H](C(=O)Nc1ccc(Cl)cc1)C1CCC(c2ccnc3ccc(F)cc23)CC1                                                    |\u001b[0m\n",
      "\n",
      "\u001b[1m> Finished chain.\u001b[0m\n",
      "\n",
      "\n",
      "\u001b[1m> Entering new AgentExecutor chain...\u001b[0m\n",
      "\u001b[32;1m\u001b[1;3m\n",
      "Invoking: `drug_smiles_lookup` with `{'drug_names': ['Mobocertinib', 'Poziotinib', 'JAB-3068', 'TNO155', 'Anlotinib', 'APG-1252', 'BMS-986205']}`\n",
      "\n",
      "\n",
      "\u001b[0m\u001b[33;1m\u001b[1;3m[{'molecule_chembl_id': 'CHEMBL4650319', 'canonical_smiles': 'C=CC(=O)Nc1cc(Nc2ncc(C(=O)OC(C)C)c(-c3cn(C)c4ccccc34)n2)c(OC)cc1N(C)CCN(C)C', 'pref_name': 'MOBOCERTINIB', 'synonym_name': 'Mobocertinib'}, {'molecule_chembl_id': 'CHEMBL3545154', 'canonical_smiles': 'C=CC(=O)N1CCC(Oc2cc3c(Nc4ccc(Cl)c(Cl)c4F)ncnc3cc2OC)CC1', 'pref_name': 'POZIOTINIB', 'synonym_name': 'Poziotinib'}, {'molecule_chembl_id': 'CHEMBL5095185', 'canonical_smiles': 'CC(=O)N1CC(F)(F)c2c(Sc3ncc(N4CCC5(CC4)COC[C@H]5N)nc3N)cccc21', 'pref_name': 'JAB-3068', 'synonym_name': 'JAB-3068'}, {'molecule_chembl_id': 'CHEMBL4650521', 'canonical_smiles': 'C[C@@H]1OCC2(CCN(c3cnc(Sc4ccnc(N)c4Cl)c(N)n3)CC2)[C@@H]1N', 'pref_name': 'BATOPROTAFIB', 'synonym_name': 'TNO155'}, {'molecule_chembl_id': 'CHEMBL4303201', 'canonical_smiles': 'COc1cc2c(Oc3ccc4[nH]c(C)cc4c3F)ccnc2cc1OCC1(N)CC1', 'pref_name': 'CATEQUENTINIB', 'synonym_name': 'Anlotinib'}, {'molecule_chembl_id': 'CHEMBL4802151', 'canonical_smiles': 'Cc1c(S(C)(=O)=O)c(-c2cc(F)cc(N3CCN(c4ccc(NS(=O)(=O)c5ccc(N[C@H](CCN6CCC(C(=O)OCCCP(=O)(O)O)CC6)CSc6ccccc6)c(S(=O)(=O)C(F)(F)F)c5)cc4)CC3)c2)c(-c2ccc(Cl)cc2)n1C(C)C', 'pref_name': 'PELCITOCLAX', 'synonym_name': 'APG-1252'}, {'molecule_chembl_id': 'CHEMBL4297598', 'canonical_smiles': 'C[C@@H](C(=O)Nc1ccc(Cl)cc1)C1CCC(c2ccnc3ccc(F)cc23)CC1', 'pref_name': 'LINRODOSTAT', 'synonym_name': 'BMS-986205'}]\u001b[0m\u001b[32;1m\u001b[1;3m\n",
      "Invoking: `predict_hydration_free_energy` with `{'smile_str_list': ['C=CC(=O)Nc1cc(Nc2ncc(C(=O)OC(C)C)c(-c3cn(C)c4ccccc34)n2)c(OC)cc1N(C)CCN(C)C', 'C=CC(=O)N1CCC(Oc2cc3c(Nc4ccc(Cl)c(Cl)c4F)ncnc3cc2OC)CC1', 'CC(=O)N1CC(F)(F)c2c(Sc3ncc(N4CCC5(CC4)COC[C@H]5N)nc3N)cccc21', 'C[C@@H]1OCC2(CCN(c3cnc(Sc4ccnc(N)c4Cl)c(N)n3)CC2)[C@@H]1N', 'COc1cc2c(Oc3ccc4[nH]c(C)cc4c3F)ccnc2cc1OCC1(N)CC1', 'Cc1c(S(C)(=O)=O)c(-c2cc(F)cc(N3CCN(c4ccc(NS(=O)(=O)c5ccc(N[C@H](CCN6CCC(C(=O)OCCCP(=O)(O)O)CC6)CSc6ccccc6)c(S(=O)(=O)C(F)(F)F)c5)cc4)CC3)c2)c(-c2ccc(Cl)cc2)n1C(C)C', 'C[C@@H](C(=O)Nc1ccc(Cl)cc1)C1CCC(c2ccnc3ccc(F)cc23)CC1']}`\n",
      "\n",
      "\n",
      "\u001b[0m\u001b[38;5;200m\u001b[1;3m{'C=CC(=O)Nc1cc(Nc2ncc(C(=O)OC(C)C)c(-c3cn(C)c4ccccc34)n2)c(OC)cc1N(C)CCN(C)C': -20.22377559222737, 'C=CC(=O)N1CCC(Oc2cc3c(Nc4ccc(Cl)c(Cl)c4F)ncnc3cc2OC)CC1': -15.242564043119172, 'CC(=O)N1CC(F)(F)c2c(Sc3ncc(N4CCC5(CC4)COC[C@H]5N)nc3N)cccc21': -21.12930424304307, 'C[C@@H]1OCC2(CCN(c3cnc(Sc4ccnc(N)c4Cl)c(N)n3)CC2)[C@@H]1N': -20.91456379013019, 'COc1cc2c(Oc3ccc4[nH]c(C)cc4c3F)ccnc2cc1OCC1(N)CC1': -15.92287692850981, 'Cc1c(S(C)(=O)=O)c(-c2cc(F)cc(N3CCN(c4ccc(NS(=O)(=O)c5ccc(N[C@H](CCN6CCC(C(=O)OCCCP(=O)(O)O)CC6)CSc6ccccc6)c(S(=O)(=O)C(F)(F)F)c5)cc4)CC3)c2)c(-c2ccc(Cl)cc2)n1C(C)C': -30.91556884183472, 'C[C@@H](C(=O)Nc1ccc(Cl)cc1)C1CCC(c2ccnc3ccc(F)cc23)CC1': -10.836689453710962}\u001b[0m"
     ]
    },
    {
     "name": "stderr",
     "output_type": "stream",
     "text": [
      "\u001b[32m2024-05-07 20:34:04.241\u001b[0m | \u001b[1mINFO    \u001b[0m | \u001b[36msrc.drug_discovery_agent.agent\u001b[0m:\u001b[36mchat\u001b[0m:\u001b[36m430\u001b[0m - \u001b[1mTotal Tokens: 0\u001b[0m\n",
      "\u001b[32m2024-05-07 20:34:04.242\u001b[0m | \u001b[1mINFO    \u001b[0m | \u001b[36msrc.drug_discovery_agent.agent\u001b[0m:\u001b[36mchat\u001b[0m:\u001b[36m431\u001b[0m - \u001b[1mPrompt Tokens: 0\u001b[0m\n",
      "\u001b[32m2024-05-07 20:34:04.242\u001b[0m | \u001b[1mINFO    \u001b[0m | \u001b[36msrc.drug_discovery_agent.agent\u001b[0m:\u001b[36mchat\u001b[0m:\u001b[36m432\u001b[0m - \u001b[1mCompletion Tokens: 0\u001b[0m\n",
      "\u001b[32m2024-05-07 20:34:04.243\u001b[0m | \u001b[1mINFO    \u001b[0m | \u001b[36msrc.drug_discovery_agent.agent\u001b[0m:\u001b[36mchat\u001b[0m:\u001b[36m433\u001b[0m - \u001b[1mSuccessful Requests: 0\u001b[0m\n",
      "\u001b[32m2024-05-07 20:34:04.244\u001b[0m | \u001b[1mINFO    \u001b[0m | \u001b[36msrc.drug_discovery_agent.agent\u001b[0m:\u001b[36mchat\u001b[0m:\u001b[36m434\u001b[0m - \u001b[1mTotal Cost (USD): 0.0\u001b[0m\n"
     ]
    },
    {
     "name": "stdout",
     "output_type": "stream",
     "text": [
      "\u001b[32;1m\u001b[1;3mHere is the updated table with the hydration free energy values for each small molecule drug that had a SMILES string:\n",
      "\n",
      "| Drug Name                   | SMILES                                                                                                       | Hydration Free Energy (kcal/mol) |\n",
      "|-----------------------------|--------------------------------------------------------------------------------------------------------------|----------------------------------|\n",
      "| Mobocertinib                | C=CC(=O)Nc1cc(Nc2ncc(C(=O)OC(C)C)c(-c3cn(C)c4ccccc34)n2)c(OC)cc1N(C)CCN(C)C                              | -20.22                          |\n",
      "| Poziotinib                  | C=CC(=O)N1CCC(Oc2cc3c(Nc4ccc(Cl)c(Cl)c4F)ncnc3cc2OC)CC1                                                  | -15.24                          |\n",
      "| JAB-3068                    | CC(=O)N1CC(F)(F)c2c(Sc3ncc(N4CCC5(CC4)COC[C@H]5N)nc3N)cccc21                                              | -21.13                          |\n",
      "| TNO155                      | C[C@@H]1OCC2(CCN(c3cnc(Sc4ccnc(N)c4Cl)c(N)n3)CC2)[C@@H]1N                                                 | -20.91                          |\n",
      "| Anlotinib                   | COc1cc2c(Oc3ccc4[nH]c(C)cc4c3F)ccnc2cc1OCC1(N)CC1                                                        | -15.92                          |\n",
      "| APG-1252                    | Cc1c(S(C)(=O)=O)c(-c2cc(F)cc(N3CCN(c4ccc(NS(=O)(=O)c5ccc(N[C@H](CCN6CCC(C(=O)OCCCP(=O)(O)O)CC6)CSc6ccccc6)c(S(=O)(=O)C(F)(F)F)c5)cc4)CC3)c2)c(-c2ccc(Cl)cc2)n1C(C)C | -30.92                          |\n",
      "| BMS-986205                  | C[C@@H](C(=O)Nc1ccc(Cl)cc1)C1CCC(c2ccnc3ccc(F)cc23)CC1                                                    | -10.84                          |\u001b[0m\n",
      "\n",
      "\u001b[1m> Finished chain.\u001b[0m\n"
     ]
    }
   ],
   "source": [
    "prompt_1 = \"What disease are they discussing in the paper?\"\n",
    "prompt_2 = \"Summarize the main takeaways from the paper.\"\n",
    "prompt_3 =  \"Can you list the protein targets they highlight in the paper?\"\n",
    "prompt_4 =  \"Can you list 10 small molecule drugs they highlight in the paper?\"\n",
    "prompt_5 = \"Lookup the smile strings associated with the small molecule drugs found in the paper. Write them alongside the drug names as a markdown table.\"\n",
    "prompt_6 = \"Add the hydration free energy for each small molecule to the table, if the small molecule had a smile string.\"\n",
    "prompts = [prompt_1,prompt_2,prompt_3,prompt_4, prompt_5, prompt_6]\n",
    "results = [my_drug_discovery_chatbot.chat(prompt,session_id=1) for prompt in prompts]"
   ]
  },
  {
   "cell_type": "code",
   "execution_count": 24,
   "metadata": {},
   "outputs": [
    {
     "data": {
      "text/markdown": [
       "The paper discusses anorexia as a side effect.\n",
       "\n",
       "The main takeaways from the paper include discussions on predictive biomarkers in advanced non-small cell lung cancer (NSCLC), such as EGFR mutations and other gene mutations. It also covers FDA-approved targeted agents for EGFR inhibitors and resistance mechanisms to treatment. The paper summarizes ongoing clinical trials that offer insights into optimal treatments for patients with different mutations and resistance mechanisms.\n",
       "\n",
       "The protein targets highlighted in the paper include PTK7, CEACAM5, TROP2, and SHP2. These proteins are associated with various types of lung cancer, including non-small cell lung cancer (NSCLC). Specific antibody-drug conjugates and inhibitors have been developed to target these proteins for potential therapeutic purposes.\n",
       "\n",
       "The 10 small molecule drugs highlighted in the paper are:\n",
       "1. Ado-trastuzumab emtansine\n",
       "2. Mobocertinib\n",
       "3. Poziotinib\n",
       "4. Trastuzumab deruxtecan\n",
       "5. JAB-3068\n",
       "6. TNO155\n",
       "7. Aliseritib\n",
       "8. Anlotinib\n",
       "9. APG-1252\n",
       "10. BMS-986205\n",
       "\n",
       "Here are the small molecule drugs found in the paper along with their corresponding SMILES strings:\n",
       "\n",
       "| Drug Name                   | SMILES                                                                                                       |\n",
       "|-----------------------------|--------------------------------------------------------------------------------------------------------------|\n",
       "| Mobocertinib                | C=CC(=O)Nc1cc(Nc2ncc(C(=O)OC(C)C)c(-c3cn(C)c4ccccc34)n2)c(OC)cc1N(C)CCN(C)C                              |\n",
       "| Poziotinib                  | C=CC(=O)N1CCC(Oc2cc3c(Nc4ccc(Cl)c(Cl)c4F)ncnc3cc2OC)CC1                                                  |\n",
       "| Trastuzumab deruxtecan      | Not Available                                                                                                |\n",
       "| JAB-3068                    | CC(=O)N1CC(F)(F)c2c(Sc3ncc(N4CCC5(CC4)COC[C@H]5N)nc3N)cccc21                                              |\n",
       "| TNO155                      | C[C@@H]1OCC2(CCN(c3cnc(Sc4ccnc(N)c4Cl)c(N)n3)CC2)[C@@H]1N                                                 |\n",
       "| Anlotinib                   | COc1cc2c(Oc3ccc4[nH]c(C)cc4c3F)ccnc2cc1OCC1(N)CC1                                                        |\n",
       "| APG-1252                    | Cc1c(S(C)(=O)=O)c(-c2cc(F)cc(N3CCN(c4ccc(NS(=O)(=O)c5ccc(N[C@H](CCN6CCC(C(=O)OCCCP(=O)(O)O)CC6)CSc6ccccc6)c(S(=O)(=O)C(F)(F)F)c5)cc4)CC3)c2)c(-c2ccc(Cl)cc2)n1C(C)C |\n",
       "| BMS-986205                  | C[C@@H](C(=O)Nc1ccc(Cl)cc1)C1CCC(c2ccnc3ccc(F)cc23)CC1                                                    |\n",
       "\n",
       "Here is the updated table with the hydration free energy values for each small molecule drug that had a SMILES string:\n",
       "\n",
       "| Drug Name                   | SMILES                                                                                                       | Hydration Free Energy (kcal/mol) |\n",
       "|-----------------------------|--------------------------------------------------------------------------------------------------------------|----------------------------------|\n",
       "| Mobocertinib                | C=CC(=O)Nc1cc(Nc2ncc(C(=O)OC(C)C)c(-c3cn(C)c4ccccc34)n2)c(OC)cc1N(C)CCN(C)C                              | -20.22                          |\n",
       "| Poziotinib                  | C=CC(=O)N1CCC(Oc2cc3c(Nc4ccc(Cl)c(Cl)c4F)ncnc3cc2OC)CC1                                                  | -15.24                          |\n",
       "| JAB-3068                    | CC(=O)N1CC(F)(F)c2c(Sc3ncc(N4CCC5(CC4)COC[C@H]5N)nc3N)cccc21                                              | -21.13                          |\n",
       "| TNO155                      | C[C@@H]1OCC2(CCN(c3cnc(Sc4ccnc(N)c4Cl)c(N)n3)CC2)[C@@H]1N                                                 | -20.91                          |\n",
       "| Anlotinib                   | COc1cc2c(Oc3ccc4[nH]c(C)cc4c3F)ccnc2cc1OCC1(N)CC1                                                        | -15.92                          |\n",
       "| APG-1252                    | Cc1c(S(C)(=O)=O)c(-c2cc(F)cc(N3CCN(c4ccc(NS(=O)(=O)c5ccc(N[C@H](CCN6CCC(C(=O)OCCCP(=O)(O)O)CC6)CSc6ccccc6)c(S(=O)(=O)C(F)(F)F)c5)cc4)CC3)c2)c(-c2ccc(Cl)cc2)n1C(C)C | -30.92                          |\n",
       "| BMS-986205                  | C[C@@H](C(=O)Nc1ccc(Cl)cc1)C1CCC(c2ccnc3ccc(F)cc23)CC1                                                    | -10.84                          |"
      ],
      "text/plain": [
       "<IPython.core.display.Markdown object>"
      ]
     },
     "execution_count": 24,
     "metadata": {},
     "output_type": "execute_result"
    }
   ],
   "source": [
    "from IPython.display import Markdown\n",
    "Markdown(\"\\n\\n\".join([result for result in results]))"
   ]
  },
  {
   "cell_type": "code",
   "execution_count": null,
   "metadata": {},
   "outputs": [],
   "source": []
  }
 ],
 "metadata": {
  "kernelspec": {
   "display_name": "Python 3.12.3 ('llm-agent-drug-discovery')",
   "language": "python",
   "name": "python3"
  },
  "language_info": {
   "codemirror_mode": {
    "name": "ipython",
    "version": 3
   },
   "file_extension": ".py",
   "mimetype": "text/x-python",
   "name": "python",
   "nbconvert_exporter": "python",
   "pygments_lexer": "ipython3",
   "version": "3.12.3"
  },
  "orig_nbformat": 4,
  "vscode": {
   "interpreter": {
    "hash": "d937db0762ab93e904a5ca8f931b80626311d069e7099a3bef64d67a42b0eea7"
   }
  }
 },
 "nbformat": 4,
 "nbformat_minor": 2
}
