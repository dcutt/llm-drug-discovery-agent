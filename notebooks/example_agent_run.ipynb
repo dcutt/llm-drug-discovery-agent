{
 "cells": [
  {
   "cell_type": "code",
   "execution_count": 26,
   "metadata": {},
   "outputs": [
    {
     "data": {
      "text/plain": [
       "<module 'src.drug_discovery_agent.agent' from '/home/dcutting/Projects/llm-agent-drug-discovery/src/drug_discovery_agent/agent.py'>"
      ]
     },
     "execution_count": 26,
     "metadata": {},
     "output_type": "execute_result"
    }
   ],
   "source": [
    "from getpass import getpass\n",
    "from importlib import reload\n",
    "import src.drug_discovery_agent.agent as agent\n",
    "from langchain_openai import ChatOpenAI\n",
    "import os\n",
    "from pathlib import Path\n",
    "reload(agent)"
   ]
  },
  {
   "cell_type": "code",
   "execution_count": 3,
   "metadata": {},
   "outputs": [],
   "source": [
    "os.environ[\"OPENAI_API_KEY\"] = getpass(\"OpenAI API Key:\")"
   ]
  },
  {
   "cell_type": "code",
   "execution_count": 27,
   "metadata": {},
   "outputs": [],
   "source": [
    "vectordb_dir = Path(\"vector_db_dir/\")\n",
    "paper_path=Path(\"../data/example_drug_discovery_paper.pdf\")\n",
    "vectordb_dir.mkdir(exist_ok=True)\n"
   ]
  },
  {
   "cell_type": "code",
   "execution_count": 28,
   "metadata": {},
   "outputs": [],
   "source": [
    "my_drug_discovery_chatbot = agent.DrugDiscoveryAgent(\n",
    "    paper_path=paper_path,\n",
    "    retriever_llm=ChatOpenAI(name='gpt-4-turbo'),\n",
    "    vectordb_dir = vectordb_dir,\n",
    "    verbose_agent = True,\n",
    "    retriever_search_k=5\n",
    ")"
   ]
  },
  {
   "cell_type": "code",
   "execution_count": 29,
   "metadata": {},
   "outputs": [
    {
     "name": "stderr",
     "output_type": "stream",
     "text": [
      "Parent run ac2d0783-7701-43d6-9713-151c6985fc85 not found for run 2ba457d9-04ed-4003-b9e8-775c16bf32ab. Treating as a root run.\n"
     ]
    },
    {
     "name": "stdout",
     "output_type": "stream",
     "text": [
      "\n",
      "\n",
      "\u001b[1m> Entering new AgentExecutor chain...\u001b[0m\n",
      "\u001b[32;1m\u001b[1;3m\n",
      "Invoking: `query_pdf` with `{'query': 'What disease are they discussing in the paper?'}`\n",
      "\n",
      "\n",
      "\u001b[0m\u001b[36;1m\u001b[1;3mNon-Small Cell Lung Cancer (NSCLC)\u001b[0m"
     ]
    },
    {
     "name": "stderr",
     "output_type": "stream",
     "text": [
      "\u001b[32m2024-05-06 15:11:31.040\u001b[0m | \u001b[1mINFO    \u001b[0m | \u001b[36msrc.drug_discovery_agent.agent\u001b[0m:\u001b[36mchat\u001b[0m:\u001b[36m301\u001b[0m - \u001b[1mTotal Tokens: 1433\u001b[0m\n",
      "\u001b[32m2024-05-06 15:11:31.041\u001b[0m | \u001b[1mINFO    \u001b[0m | \u001b[36msrc.drug_discovery_agent.agent\u001b[0m:\u001b[36mchat\u001b[0m:\u001b[36m302\u001b[0m - \u001b[1mPrompt Tokens: 1422\u001b[0m\n",
      "\u001b[32m2024-05-06 15:11:31.041\u001b[0m | \u001b[1mINFO    \u001b[0m | \u001b[36msrc.drug_discovery_agent.agent\u001b[0m:\u001b[36mchat\u001b[0m:\u001b[36m303\u001b[0m - \u001b[1mCompletion Tokens: 11\u001b[0m\n",
      "\u001b[32m2024-05-06 15:11:31.042\u001b[0m | \u001b[1mINFO    \u001b[0m | \u001b[36msrc.drug_discovery_agent.agent\u001b[0m:\u001b[36mchat\u001b[0m:\u001b[36m304\u001b[0m - \u001b[1mSuccessful Requests: 1\u001b[0m\n",
      "\u001b[32m2024-05-06 15:11:31.043\u001b[0m | \u001b[1mINFO    \u001b[0m | \u001b[36msrc.drug_discovery_agent.agent\u001b[0m:\u001b[36mchat\u001b[0m:\u001b[36m305\u001b[0m - \u001b[1mTotal Cost (USD): 0.002155\u001b[0m\n",
      "Parent run a4d53980-579d-4554-adbb-1d42ce8ea6f8 not found for run 439e8b3f-6e4e-4f7b-ad5d-c0d357c5d634. Treating as a root run.\n"
     ]
    },
    {
     "name": "stdout",
     "output_type": "stream",
     "text": [
      "\u001b[32;1m\u001b[1;3mThe disease discussed in the paper is Non-Small Cell Lung Cancer (NSCLC).\u001b[0m\n",
      "\n",
      "\u001b[1m> Finished chain.\u001b[0m\n",
      "\n",
      "\n",
      "\u001b[1m> Entering new AgentExecutor chain...\u001b[0m\n",
      "\u001b[32;1m\u001b[1;3m\n",
      "Invoking: `query_pdf` with `{'query': 'Summarize the main takeaways from the paper.'}`\n",
      "\n",
      "\n",
      "\u001b[0m\u001b[36;1m\u001b[1;3mThe paper discusses predictive biomarkers in advanced NSCLC, including various gene mutations and fusions. It also highlights FDA-approved targeted agents and resistance mechanisms in EGFR-mutated NSCLC. Osimertinib is recommended as the standard of care for untreated EGFR mutant advanced NSCLC.\u001b[0m"
     ]
    },
    {
     "name": "stderr",
     "output_type": "stream",
     "text": [
      "\u001b[32m2024-05-06 15:11:37.039\u001b[0m | \u001b[1mINFO    \u001b[0m | \u001b[36msrc.drug_discovery_agent.agent\u001b[0m:\u001b[36mchat\u001b[0m:\u001b[36m301\u001b[0m - \u001b[1mTotal Tokens: 4688\u001b[0m\n",
      "\u001b[32m2024-05-06 15:11:37.040\u001b[0m | \u001b[1mINFO    \u001b[0m | \u001b[36msrc.drug_discovery_agent.agent\u001b[0m:\u001b[36mchat\u001b[0m:\u001b[36m302\u001b[0m - \u001b[1mPrompt Tokens: 4626\u001b[0m\n",
      "\u001b[32m2024-05-06 15:11:37.041\u001b[0m | \u001b[1mINFO    \u001b[0m | \u001b[36msrc.drug_discovery_agent.agent\u001b[0m:\u001b[36mchat\u001b[0m:\u001b[36m303\u001b[0m - \u001b[1mCompletion Tokens: 62\u001b[0m\n",
      "\u001b[32m2024-05-06 15:11:37.041\u001b[0m | \u001b[1mINFO    \u001b[0m | \u001b[36msrc.drug_discovery_agent.agent\u001b[0m:\u001b[36mchat\u001b[0m:\u001b[36m304\u001b[0m - \u001b[1mSuccessful Requests: 1\u001b[0m\n",
      "\u001b[32m2024-05-06 15:11:37.042\u001b[0m | \u001b[1mINFO    \u001b[0m | \u001b[36msrc.drug_discovery_agent.agent\u001b[0m:\u001b[36mchat\u001b[0m:\u001b[36m305\u001b[0m - \u001b[1mTotal Cost (USD): 0.007063000000000001\u001b[0m\n",
      "Parent run aff6cd3b-aacf-40b1-9257-34914c028aa8 not found for run 6bf24bb4-1796-438f-8e6b-cab12a87b0c4. Treating as a root run.\n"
     ]
    },
    {
     "name": "stdout",
     "output_type": "stream",
     "text": [
      "\u001b[32;1m\u001b[1;3mThe main takeaways from the paper are:\n",
      "\n",
      "1. Discussion of predictive biomarkers in advanced Non-Small Cell Lung Cancer (NSCLC), including gene mutations and fusions.\n",
      "2. Highlighting FDA-approved targeted agents and resistance mechanisms in EGFR-mutated NSCLC.\n",
      "3. Recommendation of Osimertinib as the standard of care for untreated EGFR mutant advanced NSCLC.\u001b[0m\n",
      "\n",
      "\u001b[1m> Finished chain.\u001b[0m\n",
      "\n",
      "\n",
      "\u001b[1m> Entering new AgentExecutor chain...\u001b[0m\n",
      "\u001b[32;1m\u001b[1;3m\n",
      "Invoking: `query_pdf` with `{'query': 'List the protein targets highlighted in the paper.'}`\n",
      "\n",
      "\n",
      "\u001b[0m\u001b[36;1m\u001b[1;3mThe protein targets highlighted in the paper are anaplastic lymphoma kinase (ALK) fusion oncogene, ROS proto-oncogene 1 receptor tyrosine kinase (ROS1) gene fusions, sensitizing endothelial growth factor receptor (EGFR) gene mutations, BRAF V600E point mutations, neurotrophin tyrosine kinase (NTRK) gene fusions, c-MET exon 14 (METex14) skipping mutations, and RET rearrangements. These are discussed as predictive biomarkers in advanced NSCLC and are important for targeted therapy selection in lung adenocarcinoma. The paper provides detailed information on the distribution of these mutations in different population subgroups and the corresponding targeted therapies.\u001b[0m"
     ]
    },
    {
     "name": "stderr",
     "output_type": "stream",
     "text": [
      "\u001b[32m2024-05-06 15:11:45.183\u001b[0m | \u001b[1mINFO    \u001b[0m | \u001b[36msrc.drug_discovery_agent.agent\u001b[0m:\u001b[36mchat\u001b[0m:\u001b[36m301\u001b[0m - \u001b[1mTotal Tokens: 6867\u001b[0m\n",
      "\u001b[32m2024-05-06 15:11:45.184\u001b[0m | \u001b[1mINFO    \u001b[0m | \u001b[36msrc.drug_discovery_agent.agent\u001b[0m:\u001b[36mchat\u001b[0m:\u001b[36m302\u001b[0m - \u001b[1mPrompt Tokens: 6718\u001b[0m\n",
      "\u001b[32m2024-05-06 15:11:45.184\u001b[0m | \u001b[1mINFO    \u001b[0m | \u001b[36msrc.drug_discovery_agent.agent\u001b[0m:\u001b[36mchat\u001b[0m:\u001b[36m303\u001b[0m - \u001b[1mCompletion Tokens: 149\u001b[0m\n",
      "\u001b[32m2024-05-06 15:11:45.185\u001b[0m | \u001b[1mINFO    \u001b[0m | \u001b[36msrc.drug_discovery_agent.agent\u001b[0m:\u001b[36mchat\u001b[0m:\u001b[36m304\u001b[0m - \u001b[1mSuccessful Requests: 1\u001b[0m\n",
      "\u001b[32m2024-05-06 15:11:45.186\u001b[0m | \u001b[1mINFO    \u001b[0m | \u001b[36msrc.drug_discovery_agent.agent\u001b[0m:\u001b[36mchat\u001b[0m:\u001b[36m305\u001b[0m - \u001b[1mTotal Cost (USD): 0.010375\u001b[0m\n",
      "Parent run 965313e2-a188-4814-9265-290e15537015 not found for run 53e07ac4-85d8-470d-9e14-94adf7a7eb56. Treating as a root run.\n"
     ]
    },
    {
     "name": "stdout",
     "output_type": "stream",
     "text": [
      "\u001b[32;1m\u001b[1;3mThe protein targets highlighted in the paper are:\n",
      "- Anaplastic lymphoma kinase (ALK) fusion oncogene\n",
      "- ROS proto-oncogene 1 receptor tyrosine kinase (ROS1) gene fusions\n",
      "- Sensitizing endothelial growth factor receptor (EGFR) gene mutations\n",
      "- BRAF V600E point mutations\n",
      "- Neurotrophin tyrosine kinase (NTRK) gene fusions\n",
      "- c-MET exon 14 (METex14) skipping mutations\n",
      "- RET rearrangements\u001b[0m\n",
      "\n",
      "\u001b[1m> Finished chain.\u001b[0m\n",
      "\n",
      "\n",
      "\u001b[1m> Entering new AgentExecutor chain...\u001b[0m\n",
      "\u001b[32;1m\u001b[1;3m\n",
      "Invoking: `drug_smiles_lookup` with `{'drug_names': ['Crizotinib', 'Alectinib', 'Ceritinib', 'Entrectinib', 'Osimertinib', 'Dabrafenib', 'Trametinib', 'Lorlatinib', 'Selpercatinib', 'Capmatinib']}`\n",
      "\n",
      "\n",
      "\u001b[0m\u001b[33;1m\u001b[1;3m[{'molecule_chembl_id': 'CHEMBL601719', 'canonical_smiles': 'C[C@@H](Oc1cc(-c2cnn(C3CCNCC3)c2)cnc1N)c1c(Cl)ccc(F)c1Cl', 'pref_name': 'CRIZOTINIB', 'synonym_name': 'Crizotinib'}, {'molecule_chembl_id': 'CHEMBL1738797', 'canonical_smiles': 'CCc1cc2c(cc1N1CCC(N3CCOCC3)CC1)C(C)(C)c1[nH]c3cc(C#N)ccc3c1C2=O', 'pref_name': 'ALECTINIB', 'synonym_name': 'Alectinib'}, {'molecule_chembl_id': 'CHEMBL2403108', 'canonical_smiles': 'Cc1cc(Nc2ncc(Cl)c(Nc3ccccc3S(=O)(=O)C(C)C)n2)c(OC(C)C)cc1C1CCNCC1', 'pref_name': 'CERITINIB', 'synonym_name': 'Ceritinib'}, {'molecule_chembl_id': 'CHEMBL1983268', 'canonical_smiles': 'CN1CCN(c2ccc(C(=O)Nc3n[nH]c4ccc(Cc5cc(F)cc(F)c5)cc34)c(NC3CCOCC3)c2)CC1', 'pref_name': 'ENTRECTINIB', 'synonym_name': 'Entrectinib'}, {'molecule_chembl_id': 'CHEMBL3353410', 'canonical_smiles': 'C=CC(=O)Nc1cc(Nc2nccc(-c3cn(C)c4ccccc34)n2)c(OC)cc1N(C)CCN(C)C', 'pref_name': 'OSIMERTINIB', 'synonym_name': 'Osimertinib'}, {'molecule_chembl_id': 'CHEMBL2028663', 'canonical_smiles': 'CC(C)(C)c1nc(-c2cccc(NS(=O)(=O)c3c(F)cccc3F)c2F)c(-c2ccnc(N)n2)s1', 'pref_name': 'DABRAFENIB', 'synonym_name': 'Dabrafenib'}, {'molecule_chembl_id': 'CHEMBL2103875', 'canonical_smiles': 'CC(=O)Nc1cccc(-n2c(=O)n(C3CC3)c(=O)c3c(Nc4ccc(I)cc4F)n(C)c(=O)c(C)c32)c1', 'pref_name': 'TRAMETINIB', 'synonym_name': 'Trametinib'}, {'molecule_chembl_id': 'CHEMBL3286830', 'canonical_smiles': 'C[C@H]1Oc2cc(cnc2N)-c2c(nn(C)c2C#N)CN(C)C(=O)c2ccc(F)cc21', 'pref_name': 'LORLATINIB', 'synonym_name': 'Lorlatinib'}, {'molecule_chembl_id': 'CHEMBL4559134', 'canonical_smiles': 'COc1ccc(CN2C3CC2CN(c2ccc(-c4cc(OCC(C)(C)O)cn5ncc(C#N)c45)cn2)C3)cn1', 'pref_name': 'SELPERCATINIB', 'synonym_name': 'Selpercatinib'}, {'molecule_chembl_id': 'CHEMBL3188267', 'canonical_smiles': 'CNC(=O)c1ccc(-c2cnc3ncc(Cc4ccc5ncccc5c4)n3n2)cc1F', 'pref_name': 'CAPMATINIB', 'synonym_name': 'Capmatinib'}]\u001b[0m"
     ]
    },
    {
     "name": "stderr",
     "output_type": "stream",
     "text": [
      "\u001b[32m2024-05-06 15:11:50.749\u001b[0m | \u001b[1mINFO    \u001b[0m | \u001b[36msrc.drug_discovery_agent.agent\u001b[0m:\u001b[36mchat\u001b[0m:\u001b[36m301\u001b[0m - \u001b[1mTotal Tokens: 0\u001b[0m\n",
      "\u001b[32m2024-05-06 15:11:50.750\u001b[0m | \u001b[1mINFO    \u001b[0m | \u001b[36msrc.drug_discovery_agent.agent\u001b[0m:\u001b[36mchat\u001b[0m:\u001b[36m302\u001b[0m - \u001b[1mPrompt Tokens: 0\u001b[0m\n",
      "\u001b[32m2024-05-06 15:11:50.751\u001b[0m | \u001b[1mINFO    \u001b[0m | \u001b[36msrc.drug_discovery_agent.agent\u001b[0m:\u001b[36mchat\u001b[0m:\u001b[36m303\u001b[0m - \u001b[1mCompletion Tokens: 0\u001b[0m\n",
      "\u001b[32m2024-05-06 15:11:50.752\u001b[0m | \u001b[1mINFO    \u001b[0m | \u001b[36msrc.drug_discovery_agent.agent\u001b[0m:\u001b[36mchat\u001b[0m:\u001b[36m304\u001b[0m - \u001b[1mSuccessful Requests: 0\u001b[0m\n",
      "\u001b[32m2024-05-06 15:11:50.752\u001b[0m | \u001b[1mINFO    \u001b[0m | \u001b[36msrc.drug_discovery_agent.agent\u001b[0m:\u001b[36mchat\u001b[0m:\u001b[36m305\u001b[0m - \u001b[1mTotal Cost (USD): 0.0\u001b[0m\n",
      "Parent run 07d4de0c-2a69-4775-8a8e-3e63d79bbeb4 not found for run 6e3d2a12-7fa0-4cf1-8905-90c83831ea54. Treating as a root run.\n"
     ]
    },
    {
     "name": "stdout",
     "output_type": "stream",
     "text": [
      "\u001b[32;1m\u001b[1;3mThe 10 small molecule drugs highlighted in the paper are:\n",
      "\n",
      "1. Crizotinib\n",
      "2. Alectinib\n",
      "3. Ceritinib\n",
      "4. Entrectinib\n",
      "5. Osimertinib\n",
      "6. Dabrafenib\n",
      "7. Trametinib\n",
      "8. Lorlatinib\n",
      "9. Selpercatinib\n",
      "10. Capmatinib\u001b[0m\n",
      "\n",
      "\u001b[1m> Finished chain.\u001b[0m\n",
      "\n",
      "\n",
      "\u001b[1m> Entering new AgentExecutor chain...\u001b[0m\n",
      "\u001b[32;1m\u001b[1;3m\n",
      "Invoking: `drug_smiles_lookup` with `{'drug_names': ['Crizotinib', 'Alectinib', 'Ceritinib', 'Entrectinib', 'Osimertinib', 'Dabrafenib', 'Trametinib', 'Lorlatinib', 'Selpercatinib', 'Capmatinib']}`\n",
      "\n",
      "\n",
      "\u001b[0m\u001b[33;1m\u001b[1;3m[{'molecule_chembl_id': 'CHEMBL601719', 'canonical_smiles': 'C[C@@H](Oc1cc(-c2cnn(C3CCNCC3)c2)cnc1N)c1c(Cl)ccc(F)c1Cl', 'pref_name': 'CRIZOTINIB', 'synonym_name': 'Crizotinib'}, {'molecule_chembl_id': 'CHEMBL1738797', 'canonical_smiles': 'CCc1cc2c(cc1N1CCC(N3CCOCC3)CC1)C(C)(C)c1[nH]c3cc(C#N)ccc3c1C2=O', 'pref_name': 'ALECTINIB', 'synonym_name': 'Alectinib'}, {'molecule_chembl_id': 'CHEMBL2403108', 'canonical_smiles': 'Cc1cc(Nc2ncc(Cl)c(Nc3ccccc3S(=O)(=O)C(C)C)n2)c(OC(C)C)cc1C1CCNCC1', 'pref_name': 'CERITINIB', 'synonym_name': 'Ceritinib'}, {'molecule_chembl_id': 'CHEMBL1983268', 'canonical_smiles': 'CN1CCN(c2ccc(C(=O)Nc3n[nH]c4ccc(Cc5cc(F)cc(F)c5)cc34)c(NC3CCOCC3)c2)CC1', 'pref_name': 'ENTRECTINIB', 'synonym_name': 'Entrectinib'}, {'molecule_chembl_id': 'CHEMBL3353410', 'canonical_smiles': 'C=CC(=O)Nc1cc(Nc2nccc(-c3cn(C)c4ccccc34)n2)c(OC)cc1N(C)CCN(C)C', 'pref_name': 'OSIMERTINIB', 'synonym_name': 'Osimertinib'}, {'molecule_chembl_id': 'CHEMBL2028663', 'canonical_smiles': 'CC(C)(C)c1nc(-c2cccc(NS(=O)(=O)c3c(F)cccc3F)c2F)c(-c2ccnc(N)n2)s1', 'pref_name': 'DABRAFENIB', 'synonym_name': 'Dabrafenib'}, {'molecule_chembl_id': 'CHEMBL2103875', 'canonical_smiles': 'CC(=O)Nc1cccc(-n2c(=O)n(C3CC3)c(=O)c3c(Nc4ccc(I)cc4F)n(C)c(=O)c(C)c32)c1', 'pref_name': 'TRAMETINIB', 'synonym_name': 'Trametinib'}, {'molecule_chembl_id': 'CHEMBL3286830', 'canonical_smiles': 'C[C@H]1Oc2cc(cnc2N)-c2c(nn(C)c2C#N)CN(C)C(=O)c2ccc(F)cc21', 'pref_name': 'LORLATINIB', 'synonym_name': 'Lorlatinib'}, {'molecule_chembl_id': 'CHEMBL4559134', 'canonical_smiles': 'COc1ccc(CN2C3CC2CN(c2ccc(-c4cc(OCC(C)(C)O)cn5ncc(C#N)c45)cn2)C3)cn1', 'pref_name': 'SELPERCATINIB', 'synonym_name': 'Selpercatinib'}, {'molecule_chembl_id': 'CHEMBL3188267', 'canonical_smiles': 'CNC(=O)c1ccc(-c2cnc3ncc(Cc4ccc5ncccc5c4)n3n2)cc1F', 'pref_name': 'CAPMATINIB', 'synonym_name': 'Capmatinib'}]\u001b[0m"
     ]
    },
    {
     "name": "stderr",
     "output_type": "stream",
     "text": [
      "\u001b[32m2024-05-06 15:12:08.549\u001b[0m | \u001b[1mINFO    \u001b[0m | \u001b[36msrc.drug_discovery_agent.agent\u001b[0m:\u001b[36mchat\u001b[0m:\u001b[36m301\u001b[0m - \u001b[1mTotal Tokens: 0\u001b[0m\n",
      "\u001b[32m2024-05-06 15:12:08.550\u001b[0m | \u001b[1mINFO    \u001b[0m | \u001b[36msrc.drug_discovery_agent.agent\u001b[0m:\u001b[36mchat\u001b[0m:\u001b[36m302\u001b[0m - \u001b[1mPrompt Tokens: 0\u001b[0m\n",
      "\u001b[32m2024-05-06 15:12:08.551\u001b[0m | \u001b[1mINFO    \u001b[0m | \u001b[36msrc.drug_discovery_agent.agent\u001b[0m:\u001b[36mchat\u001b[0m:\u001b[36m303\u001b[0m - \u001b[1mCompletion Tokens: 0\u001b[0m\n",
      "\u001b[32m2024-05-06 15:12:08.551\u001b[0m | \u001b[1mINFO    \u001b[0m | \u001b[36msrc.drug_discovery_agent.agent\u001b[0m:\u001b[36mchat\u001b[0m:\u001b[36m304\u001b[0m - \u001b[1mSuccessful Requests: 0\u001b[0m\n",
      "\u001b[32m2024-05-06 15:12:08.552\u001b[0m | \u001b[1mINFO    \u001b[0m | \u001b[36msrc.drug_discovery_agent.agent\u001b[0m:\u001b[36mchat\u001b[0m:\u001b[36m305\u001b[0m - \u001b[1mTotal Cost (USD): 0.0\u001b[0m\n"
     ]
    },
    {
     "name": "stdout",
     "output_type": "stream",
     "text": [
      "\u001b[32;1m\u001b[1;3mHere are the SMILE strings associated with the small molecule drugs found in the paper:\n",
      "\n",
      "| Drug Name     | SMILE String                                                                                      |\n",
      "|---------------|---------------------------------------------------------------------------------------------------|\n",
      "| Crizotinib    | C[C@@H](Oc1cc(-c2cnn(C3CCNCC3)c2)cnc1N)c1c(Cl)ccc(F)c1Cl                                           |\n",
      "| Alectinib     | CCc1cc2c(cc1N1CCC(N3CCOCC3)CC1)C(C)(C)c1[nH]c3cc(C#N)ccc3c1C2=O                                    |\n",
      "| Ceritinib     | Cc1cc(Nc2ncc(Cl)c(Nc3ccccc3S(=O)(=O)C(C)C)n2)c(OC(C)C)cc1C1CCNCC1                                 |\n",
      "| Entrectinib   | CN1CCN(c2ccc(C(=O)Nc3n[nH]c4ccc(Cc5cc(F)cc(F)c5)cc34)c(NC3CCOCC3)c2)CC1                          |\n",
      "| Osimertinib   | C=CC(=O)Nc1cc(Nc2nccc(-c3cn(C)c4ccccc34)n2)c(OC)cc1N(C)CCN(C)C                                    |\n",
      "| Dabrafenib    | CC(C)(C)c1nc(-c2cccc(NS(=O)(=O)c3c(F)cccc3F)c2F)c(-c2ccnc(N)n2)s1                                  |\n",
      "| Trametinib    | CC(=O)Nc1cccc(-n2c(=O)n(C3CC3)c(=O)c3c(Nc4ccc(I)cc4F)n(C)c(=O)c(C)c32)c1                         |\n",
      "| Lorlatinib    | C[C@H]1Oc2cc(cnc2N)-c2c(nn(C)c2C#N)CN(C)C(=O)c2ccc(F)cc21                                          |\n",
      "| Selpercatinib | COc1ccc(CN2C3CC2CN(c2ccc(-c4cc(OCC(C)(C)O)cn5ncc(C#N)c45)cn2)C3)cn1                               |\n",
      "| Capmatinib    | CNC(=O)c1ccc(-c2cnc3ncc(Cc4ccc5ncccc5c4)n3n2)cc1F                                                  |\u001b[0m\n",
      "\n",
      "\u001b[1m> Finished chain.\u001b[0m\n"
     ]
    }
   ],
   "source": [
    "prompt_1 = \"What disease are they discussing in the paper?\"\n",
    "prompt_2 = \"Summarize the main takeaways from the paper.\"\n",
    "prompt_3 =  \"Can you list the protein targets they highlight in the paper?\"\n",
    "prompt_4 =  \"Can you list 10 small molecule drugs they highlight in the paper?\"\n",
    "prompt_5 = \"Lookup the smile strings associated with the small molecule drugs found in the paper. Write them alongside the drug names as a markdown table\"\n",
    "prompts = [prompt_1,prompt_2,prompt_3,prompt_4, prompt_5]\n",
    "results = [my_drug_discovery_chatbot.chat(prompt, session_id=2) for prompt in prompts]"
   ]
  },
  {
   "cell_type": "code",
   "execution_count": 30,
   "metadata": {},
   "outputs": [
    {
     "data": {
      "text/plain": [
       "[{'input': 'What disease are they discussing in the paper?',\n",
       "  'chat_history': [],\n",
       "  'output': 'The disease discussed in the paper is Non-Small Cell Lung Cancer (NSCLC).'},\n",
       " {'input': 'Summarize the main takeaways from the paper.',\n",
       "  'chat_history': [HumanMessage(content='What disease are they discussing in the paper?'),\n",
       "   AIMessage(content='The disease discussed in the paper is Non-Small Cell Lung Cancer (NSCLC).')],\n",
       "  'output': 'The main takeaways from the paper are:\\n\\n1. Discussion of predictive biomarkers in advanced Non-Small Cell Lung Cancer (NSCLC), including gene mutations and fusions.\\n2. Highlighting FDA-approved targeted agents and resistance mechanisms in EGFR-mutated NSCLC.\\n3. Recommendation of Osimertinib as the standard of care for untreated EGFR mutant advanced NSCLC.'},\n",
       " {'input': 'Can you list the protein targets they highlight in the paper?',\n",
       "  'chat_history': [HumanMessage(content='What disease are they discussing in the paper?'),\n",
       "   AIMessage(content='The disease discussed in the paper is Non-Small Cell Lung Cancer (NSCLC).'),\n",
       "   HumanMessage(content='Summarize the main takeaways from the paper.'),\n",
       "   AIMessage(content='The main takeaways from the paper are:\\n\\n1. Discussion of predictive biomarkers in advanced Non-Small Cell Lung Cancer (NSCLC), including gene mutations and fusions.\\n2. Highlighting FDA-approved targeted agents and resistance mechanisms in EGFR-mutated NSCLC.\\n3. Recommendation of Osimertinib as the standard of care for untreated EGFR mutant advanced NSCLC.')],\n",
       "  'output': 'The protein targets highlighted in the paper are:\\n- Anaplastic lymphoma kinase (ALK) fusion oncogene\\n- ROS proto-oncogene 1 receptor tyrosine kinase (ROS1) gene fusions\\n- Sensitizing endothelial growth factor receptor (EGFR) gene mutations\\n- BRAF V600E point mutations\\n- Neurotrophin tyrosine kinase (NTRK) gene fusions\\n- c-MET exon 14 (METex14) skipping mutations\\n- RET rearrangements'},\n",
       " {'input': 'Can you list 10 small molecule drugs they highlight in the paper?',\n",
       "  'chat_history': [HumanMessage(content='What disease are they discussing in the paper?'),\n",
       "   AIMessage(content='The disease discussed in the paper is Non-Small Cell Lung Cancer (NSCLC).'),\n",
       "   HumanMessage(content='Summarize the main takeaways from the paper.'),\n",
       "   AIMessage(content='The main takeaways from the paper are:\\n\\n1. Discussion of predictive biomarkers in advanced Non-Small Cell Lung Cancer (NSCLC), including gene mutations and fusions.\\n2. Highlighting FDA-approved targeted agents and resistance mechanisms in EGFR-mutated NSCLC.\\n3. Recommendation of Osimertinib as the standard of care for untreated EGFR mutant advanced NSCLC.'),\n",
       "   HumanMessage(content='Can you list the protein targets they highlight in the paper?'),\n",
       "   AIMessage(content='The protein targets highlighted in the paper are:\\n- Anaplastic lymphoma kinase (ALK) fusion oncogene\\n- ROS proto-oncogene 1 receptor tyrosine kinase (ROS1) gene fusions\\n- Sensitizing endothelial growth factor receptor (EGFR) gene mutations\\n- BRAF V600E point mutations\\n- Neurotrophin tyrosine kinase (NTRK) gene fusions\\n- c-MET exon 14 (METex14) skipping mutations\\n- RET rearrangements')],\n",
       "  'output': 'The 10 small molecule drugs highlighted in the paper are:\\n\\n1. Crizotinib\\n2. Alectinib\\n3. Ceritinib\\n4. Entrectinib\\n5. Osimertinib\\n6. Dabrafenib\\n7. Trametinib\\n8. Lorlatinib\\n9. Selpercatinib\\n10. Capmatinib'},\n",
       " {'input': 'Lookup the smile strings associated with the small molecule drugs found in the paper. Write them alongside the drug names as a markdown table',\n",
       "  'chat_history': [HumanMessage(content='What disease are they discussing in the paper?'),\n",
       "   AIMessage(content='The disease discussed in the paper is Non-Small Cell Lung Cancer (NSCLC).'),\n",
       "   HumanMessage(content='Summarize the main takeaways from the paper.'),\n",
       "   AIMessage(content='The main takeaways from the paper are:\\n\\n1. Discussion of predictive biomarkers in advanced Non-Small Cell Lung Cancer (NSCLC), including gene mutations and fusions.\\n2. Highlighting FDA-approved targeted agents and resistance mechanisms in EGFR-mutated NSCLC.\\n3. Recommendation of Osimertinib as the standard of care for untreated EGFR mutant advanced NSCLC.'),\n",
       "   HumanMessage(content='Can you list the protein targets they highlight in the paper?'),\n",
       "   AIMessage(content='The protein targets highlighted in the paper are:\\n- Anaplastic lymphoma kinase (ALK) fusion oncogene\\n- ROS proto-oncogene 1 receptor tyrosine kinase (ROS1) gene fusions\\n- Sensitizing endothelial growth factor receptor (EGFR) gene mutations\\n- BRAF V600E point mutations\\n- Neurotrophin tyrosine kinase (NTRK) gene fusions\\n- c-MET exon 14 (METex14) skipping mutations\\n- RET rearrangements'),\n",
       "   HumanMessage(content='Can you list 10 small molecule drugs they highlight in the paper?'),\n",
       "   AIMessage(content='The 10 small molecule drugs highlighted in the paper are:\\n\\n1. Crizotinib\\n2. Alectinib\\n3. Ceritinib\\n4. Entrectinib\\n5. Osimertinib\\n6. Dabrafenib\\n7. Trametinib\\n8. Lorlatinib\\n9. Selpercatinib\\n10. Capmatinib')],\n",
       "  'output': 'Here are the SMILE strings associated with the small molecule drugs found in the paper:\\n\\n| Drug Name     | SMILE String                                                                                      |\\n|---------------|---------------------------------------------------------------------------------------------------|\\n| Crizotinib    | C[C@@H](Oc1cc(-c2cnn(C3CCNCC3)c2)cnc1N)c1c(Cl)ccc(F)c1Cl                                           |\\n| Alectinib     | CCc1cc2c(cc1N1CCC(N3CCOCC3)CC1)C(C)(C)c1[nH]c3cc(C#N)ccc3c1C2=O                                    |\\n| Ceritinib     | Cc1cc(Nc2ncc(Cl)c(Nc3ccccc3S(=O)(=O)C(C)C)n2)c(OC(C)C)cc1C1CCNCC1                                 |\\n| Entrectinib   | CN1CCN(c2ccc(C(=O)Nc3n[nH]c4ccc(Cc5cc(F)cc(F)c5)cc34)c(NC3CCOCC3)c2)CC1                          |\\n| Osimertinib   | C=CC(=O)Nc1cc(Nc2nccc(-c3cn(C)c4ccccc34)n2)c(OC)cc1N(C)CCN(C)C                                    |\\n| Dabrafenib    | CC(C)(C)c1nc(-c2cccc(NS(=O)(=O)c3c(F)cccc3F)c2F)c(-c2ccnc(N)n2)s1                                  |\\n| Trametinib    | CC(=O)Nc1cccc(-n2c(=O)n(C3CC3)c(=O)c3c(Nc4ccc(I)cc4F)n(C)c(=O)c(C)c32)c1                         |\\n| Lorlatinib    | C[C@H]1Oc2cc(cnc2N)-c2c(nn(C)c2C#N)CN(C)C(=O)c2ccc(F)cc21                                          |\\n| Selpercatinib | COc1ccc(CN2C3CC2CN(c2ccc(-c4cc(OCC(C)(C)O)cn5ncc(C#N)c45)cn2)C3)cn1                               |\\n| Capmatinib    | CNC(=O)c1ccc(-c2cnc3ncc(Cc4ccc5ncccc5c4)n3n2)cc1F                                                  |'}]"
      ]
     },
     "execution_count": 30,
     "metadata": {},
     "output_type": "execute_result"
    }
   ],
   "source": [
    "results"
   ]
  },
  {
   "cell_type": "code",
   "execution_count": 31,
   "metadata": {},
   "outputs": [
    {
     "data": {
      "text/markdown": [
       "The disease discussed in the paper is Non-Small Cell Lung Cancer (NSCLC).\n",
       "\n",
       "The main takeaways from the paper are:\n",
       "\n",
       "1. Discussion of predictive biomarkers in advanced Non-Small Cell Lung Cancer (NSCLC), including gene mutations and fusions.\n",
       "2. Highlighting FDA-approved targeted agents and resistance mechanisms in EGFR-mutated NSCLC.\n",
       "3. Recommendation of Osimertinib as the standard of care for untreated EGFR mutant advanced NSCLC.\n",
       "\n",
       "The protein targets highlighted in the paper are:\n",
       "- Anaplastic lymphoma kinase (ALK) fusion oncogene\n",
       "- ROS proto-oncogene 1 receptor tyrosine kinase (ROS1) gene fusions\n",
       "- Sensitizing endothelial growth factor receptor (EGFR) gene mutations\n",
       "- BRAF V600E point mutations\n",
       "- Neurotrophin tyrosine kinase (NTRK) gene fusions\n",
       "- c-MET exon 14 (METex14) skipping mutations\n",
       "- RET rearrangements\n",
       "\n",
       "The 10 small molecule drugs highlighted in the paper are:\n",
       "\n",
       "1. Crizotinib\n",
       "2. Alectinib\n",
       "3. Ceritinib\n",
       "4. Entrectinib\n",
       "5. Osimertinib\n",
       "6. Dabrafenib\n",
       "7. Trametinib\n",
       "8. Lorlatinib\n",
       "9. Selpercatinib\n",
       "10. Capmatinib\n",
       "\n",
       "Here are the SMILE strings associated with the small molecule drugs found in the paper:\n",
       "\n",
       "| Drug Name     | SMILE String                                                                                      |\n",
       "|---------------|---------------------------------------------------------------------------------------------------|\n",
       "| Crizotinib    | C[C@@H](Oc1cc(-c2cnn(C3CCNCC3)c2)cnc1N)c1c(Cl)ccc(F)c1Cl                                           |\n",
       "| Alectinib     | CCc1cc2c(cc1N1CCC(N3CCOCC3)CC1)C(C)(C)c1[nH]c3cc(C#N)ccc3c1C2=O                                    |\n",
       "| Ceritinib     | Cc1cc(Nc2ncc(Cl)c(Nc3ccccc3S(=O)(=O)C(C)C)n2)c(OC(C)C)cc1C1CCNCC1                                 |\n",
       "| Entrectinib   | CN1CCN(c2ccc(C(=O)Nc3n[nH]c4ccc(Cc5cc(F)cc(F)c5)cc34)c(NC3CCOCC3)c2)CC1                          |\n",
       "| Osimertinib   | C=CC(=O)Nc1cc(Nc2nccc(-c3cn(C)c4ccccc34)n2)c(OC)cc1N(C)CCN(C)C                                    |\n",
       "| Dabrafenib    | CC(C)(C)c1nc(-c2cccc(NS(=O)(=O)c3c(F)cccc3F)c2F)c(-c2ccnc(N)n2)s1                                  |\n",
       "| Trametinib    | CC(=O)Nc1cccc(-n2c(=O)n(C3CC3)c(=O)c3c(Nc4ccc(I)cc4F)n(C)c(=O)c(C)c32)c1                         |\n",
       "| Lorlatinib    | C[C@H]1Oc2cc(cnc2N)-c2c(nn(C)c2C#N)CN(C)C(=O)c2ccc(F)cc21                                          |\n",
       "| Selpercatinib | COc1ccc(CN2C3CC2CN(c2ccc(-c4cc(OCC(C)(C)O)cn5ncc(C#N)c45)cn2)C3)cn1                               |\n",
       "| Capmatinib    | CNC(=O)c1ccc(-c2cnc3ncc(Cc4ccc5ncccc5c4)n3n2)cc1F                                                  |"
      ],
      "text/plain": [
       "<IPython.core.display.Markdown object>"
      ]
     },
     "execution_count": 31,
     "metadata": {},
     "output_type": "execute_result"
    }
   ],
   "source": [
    "from IPython.display import Markdown\n",
    "Markdown(\"\\n\\n\".join([result['output'] for result in results]))"
   ]
  },
  {
   "cell_type": "code",
   "execution_count": null,
   "metadata": {},
   "outputs": [],
   "source": []
  }
 ],
 "metadata": {
  "kernelspec": {
   "display_name": "Python 3.12.3 ('llm-agent-drug-discovery')",
   "language": "python",
   "name": "python3"
  },
  "language_info": {
   "codemirror_mode": {
    "name": "ipython",
    "version": 3
   },
   "file_extension": ".py",
   "mimetype": "text/x-python",
   "name": "python",
   "nbconvert_exporter": "python",
   "pygments_lexer": "ipython3",
   "version": "3.12.3"
  },
  "orig_nbformat": 4,
  "vscode": {
   "interpreter": {
    "hash": "d937db0762ab93e904a5ca8f931b80626311d069e7099a3bef64d67a42b0eea7"
   }
  }
 },
 "nbformat": 4,
 "nbformat_minor": 2
}
